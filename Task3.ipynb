{
  "nbformat": 4,
  "nbformat_minor": 0,
  "metadata": {
    "colab": {
      "name": "Task3",
      "provenance": [],
      "collapsed_sections": []
    },
    "kernelspec": {
      "name": "python3",
      "display_name": "Python 3"
    }
  },
  "cells": [
    {
      "cell_type": "markdown",
      "metadata": {
        "id": "DglonAqgXoEc"
      },
      "source": [
        "Шанарова Надежда, 451 группа\n",
        "\n",
        "\n",
        "\n",
        "\n",
        "\n",
        "\n"
      ]
    },
    {
      "cell_type": "code",
      "metadata": {
        "id": "-3plPpsEXogh"
      },
      "source": [
        "import numpy as np\n",
        "import copy\n",
        "\n",
        "n = 3\n",
        "def_system = np.array([[3.278164, 1.046583, -1.378574, -0.527466], \n",
        "                       [1.046583, 2.975937, 0.934251, 2.526877], \n",
        "                       [-1.378574, 0.934251, 4.836173, 5.165441]])\n",
        "\n",
        "spec_rad = 0.620403\n",
        "\n",
        "simple_system = np.array([[1., 1., 1., 3.], \n",
        "                          [2., 1., 1., 2.], \n",
        "                          [2., 2., 1., 1.]])"
      ],
      "execution_count": null,
      "outputs": []
    },
    {
      "cell_type": "markdown",
      "metadata": {
        "id": "D0I88HQYYGTv"
      },
      "source": [
        "**Получение решения методом Гаусса**"
      ]
    },
    {
      "cell_type": "code",
      "metadata": {
        "id": "cIz8ZqOPX7GN",
        "colab": {
          "base_uri": "https://localhost:8080/",
          "height": 168
        },
        "outputId": "f0e6c441-5ee1-4020-d9cd-98152c95f6de"
      },
      "source": [
        "#выполнение прямого хода\n",
        "def forward(system, n, expansion): \n",
        "  for k in range(0, n):\n",
        "    tmp = system[k, k]\n",
        "    for j in range(k, n + expansion):\n",
        "      system[k, j] = system[k, j] / tmp\n",
        "    for i in range(k+1, n):\n",
        "      tmp = system[i, k]\n",
        "      for j in range(k, n + expansion):\n",
        "        system[i, j] = system[i, j] - system[k, j] * tmp\n",
        "\n",
        "#выполнение обртаного хода\n",
        "def get_solution(system, n):\n",
        "  x = np.zeros(n)\n",
        "  for i in range(n-1, -1, -1):\n",
        "    sum = 0;\n",
        "    for j in range(n-1, i, -1):\n",
        "      sum += system[i, j] * x[j]\n",
        "    x[i] = system[i, n] - sum\n",
        "  return x\n",
        "\n",
        "#получение вектора b из расширенной системы\n",
        "def get_b(system, n):\n",
        "  b = np.zeros(n)\n",
        "  for i in range(0, n):\n",
        "    b[i] = system[i, n]\n",
        "  return b\n",
        "\n",
        "#получение матрицы A из расширенной системы\n",
        "def get_a(system, n):\n",
        "  A = np.zeros((n, n))\n",
        "  for i in range(0, n):\n",
        "    for j in range(0, n):\n",
        "      A[i, j] = system[i, j]\n",
        "  return A\n",
        "\n",
        "system = copy.copy(def_system)\n",
        "b = get_b(system, n)\n",
        "A = get_a(system, n)\n",
        "\n",
        "print('исходная система:')\n",
        "print(system, '\\n')\n",
        "\n",
        "forward(system, n, 1)\n",
        "x_g = get_solution(system, n)\n",
        "\n",
        "print('результат методом Гаусса:')\n",
        "for i in range (0, n):\n",
        "  print('x' + \"{}\".format(i) + ': ', x_g[i])"
      ],
      "execution_count": null,
      "outputs": [
        {
          "output_type": "stream",
          "text": [
            "исходная система:\n",
            "[[ 3.278164  1.046583 -1.378574 -0.527466]\n",
            " [ 1.046583  2.975937  0.934251  2.526877]\n",
            " [-1.378574  0.934251  4.836173  5.165441]] \n",
            "\n",
            "результат методом Гаусса:\n",
            "x0:  0.10000019313508599\n",
            "x1:  0.4999996300255529\n",
            "x2:  1.0000001058481585\n"
          ],
          "name": "stdout"
        }
      ]
    },
    {
      "cell_type": "markdown",
      "metadata": {
        "id": "BYHcdBBXZRJ2"
      },
      "source": [
        "**Приведение системы к виду x = Hx + g**"
      ]
    },
    {
      "cell_type": "code",
      "metadata": {
        "id": "qwHhwgOOZYlI",
        "colab": {
          "base_uri": "https://localhost:8080/",
          "height": 269
        },
        "outputId": "77e2645d-49aa-407e-afe5-0acfa23399b1"
      },
      "source": [
        "#вычисление inf нормы матрицы\n",
        "def get_norm_matrix(matrix, n):\n",
        "  norm = 0\n",
        "  for i in range(0, n):\n",
        "    for j in range(0, n):\n",
        "      if abs(matrix[i, j]) > norm:\n",
        "        norm = ma\n",
        "  return norm\n",
        "\n",
        "#вычисление inf нормы вектора\n",
        "def get_norm_vector(x, n):\n",
        "  norm = 0\n",
        "  for i in range(0, n):\n",
        "    if abs(x[i]) > norm:\n",
        "      norm = abs(x[i])\n",
        "  return norm\n",
        "\n",
        "system = copy.copy(def_system)\n",
        "b = get_b(system, n)\n",
        "A = get_a(system, n)\n",
        "\n",
        "H = np.zeros((n, n))\n",
        "for i in range(0, n):\n",
        "  for j in range(0, n):\n",
        "    if i != j:\n",
        "      H[i, j] = (-A[i, j]) / A[i, i]\n",
        "\n",
        "g = np.zeros(n)\n",
        "for i in range(0, n):\n",
        "  g[i] = b[i] / A[i, i]\n",
        "\n",
        "print('исходная система:')\n",
        "print(system, '\\n')\n",
        "\n",
        "print('H:\\n', H, '\\n')\n",
        "print('g:\\n', g, '\\n')\n",
        "\n",
        "\n",
        "print('inf норма H: ', get_norm_matrix(H, n))\n",
        "print('спектральный радиус H: ', spec_rad)"
      ],
      "execution_count": null,
      "outputs": [
        {
          "output_type": "stream",
          "text": [
            "исходная система:\n",
            "[[ 3.278164  1.046583 -1.378574 -0.527466]\n",
            " [ 1.046583  2.975937  0.934251  2.526877]\n",
            " [-1.378574  0.934251  4.836173  5.165441]] \n",
            "\n",
            "H:\n",
            " [[ 0.         -0.31925889  0.42053235]\n",
            " [-0.35168184  0.         -0.31393507]\n",
            " [ 0.28505473 -0.19317981  0.        ]] \n",
            "\n",
            "g:\n",
            " [-0.16090287  0.84910299  1.06808441] \n",
            "\n",
            "inf норма H:  0.7397912368020636\n",
            "спектральный радиус H:  0.620403\n"
          ],
          "name": "stdout"
        }
      ]
    },
    {
      "cell_type": "markdown",
      "metadata": {
        "id": "R10y3slQztbU"
      },
      "source": [
        "**Метод простой итерации**"
      ]
    },
    {
      "cell_type": "code",
      "metadata": {
        "id": "imQhUWo5zzz6",
        "colab": {
          "base_uri": "https://localhost:8080/",
          "height": 370
        },
        "outputId": "40abe1df-9bf4-45a8-d8f0-09768a8889fc"
      },
      "source": [
        "num_app = 7\n",
        "\n",
        "approximations = []\n",
        "approximations.append(np.zeros(n))\n",
        "\n",
        "for k in range(1, num_app + 1):\n",
        "  x = np.zeros(n)\n",
        "  for i in range(0, n):\n",
        "    sum = 0\n",
        "    for j in range(0, n):\n",
        "      sum += H[i, j] * (approximations[k - 1])[j]\n",
        "    x[i] = sum + g[i]\n",
        "  approximations.append(x)\n",
        "\n",
        "x_iter = approximations[num_app]\n",
        "\n",
        "norm_g = get_norm_vector(g, n)\n",
        "norm_H = get_norm_matrix(H, n)\n",
        "\n",
        "apriori_err = pow(norm_H, num_app) * get_norm_vector(approximations[0], n) + pow(norm_H, num_app) / (1 - norm_H) * norm_g\n",
        "\n",
        "error_vector = np.zeros(n)\n",
        "for i in range(0, n):\n",
        "  error_vector[i] = x_g[i] - x_iter[i]\n",
        "actual_err = get_norm_vector(error_vector, n)\n",
        "\n",
        "error_vector = np.zeros(n)\n",
        "for i in range(0, n):\n",
        "  error_vector[i] = (approximations[num_app])[i] - (approximations[num_app - 1])[i]\n",
        "error = get_norm_vector(error_vector, n)\n",
        "posterior_err = norm_H / (1 - norm_H) * error\n",
        "\n",
        "print('решение по Гауссу:\\n', x_g, '\\n')\n",
        "print('приближение решения:')\n",
        "for i in range (0, num_app + 1):\n",
        "  print(i, ' --- ', approximations[i])\n",
        "\n",
        "print('\\nфактическая погрешность: ', actual_err)\n",
        "print('\\nапостериорная погрешность: ', posterior_err)\n",
        "print('\\nаприорная погрешность: ', apriori_err)\n",
        "\n",
        "x_luster = np.zeros(n)\n",
        "for i in range(0, n):\n",
        "  x_luster[i] = (approximations[num_app - 1])[i] + 1 / (1 - spec_rad) * ((approximations[num_app])[i] - (approximations[num_app - 1])[i])\n",
        "print('\\nуточнение решения по Люстернику', x_luster)\n",
        "\n",
        "error_vector = np.zeros(n)\n",
        "for i in range(0, n):\n",
        "  error_vector[i] = x_g[i] - x_luster[i]\n",
        "actual_err_l = get_norm_vector(error_vector, n)\n",
        "\n",
        "print('погрешность: ', actual_err_l)\n"
      ],
      "execution_count": null,
      "outputs": [
        {
          "output_type": "stream",
          "text": [
            "решение по Гауссу:\n",
            " [0.10000019 0.49999963 1.00000011] \n",
            "\n",
            "приближение решения:\n",
            "0  ---  [0. 0. 0.]\n",
            "1  ---  [-0.16090287  0.84910299  1.06808441]\n",
            "2  ---  [0.0171775  0.57038045 0.85818873]\n",
            "3  ---  [0.01789422 0.57364643 0.96279495]\n",
            "4  ---  [0.06084183 0.54055481 0.96236833]\n",
            "5  ---  [0.07122721 0.52558485 0.98100339]\n",
            "6  ---  [0.08384315 0.5160823  0.98685568]\n",
            "7  ---  [0.089338   0.50980826 0.99228762]\n",
            "\n",
            "фактическая погрешность:  0.010662190445432818\n",
            "\n",
            "апостериорная погрешность:  0.017837514946761987\n",
            "\n",
            "априорная погрешность:  0.49779202757005997\n",
            "\n",
            "уточнение решения по Люстернику [0.09831864 0.49955415 1.00116542]\n",
            "погрешность:  0.00168155081285018\n"
          ],
          "name": "stdout"
        }
      ]
    },
    {
      "cell_type": "markdown",
      "metadata": {
        "id": "ZX_b7Zr2keLW"
      },
      "source": [
        "**Метод Зейделя** "
      ]
    },
    {
      "cell_type": "code",
      "metadata": {
        "id": "RsePvCbskiQk",
        "colab": {
          "base_uri": "https://localhost:8080/",
          "height": 353
        },
        "outputId": "920e1aa6-325f-4a5b-99ef-eeb1b51a8b69"
      },
      "source": [
        "approximations = []\n",
        "approximations.append(np.zeros(n))\n",
        "\n",
        "for k in range(1, num_app + 1):\n",
        "  x = np.zeros(n)\n",
        "  for i in range(0, n):\n",
        "    sum = 0\n",
        "    for j in range(0, i):\n",
        "      sum += H[i, j] * x[j]\n",
        "    for j in range(i, n):\n",
        "      sum += H[i, j] * (approximations[k - 1])[j]\n",
        "    x[i] = sum + g[i]\n",
        "  approximations.append(x)\n",
        "\n",
        "error_vector = np.zeros(n)\n",
        "for i in range(0, n):\n",
        "  error_vector[i] = x_g[i] - (approximations[num_app])[i]\n",
        "actual_err_z = get_norm_vector(error_vector, n)\n",
        "\n",
        "print('решение по Гауссу:\\n', x_g, '\\n')\n",
        "\n",
        "print('решение методом простой итерации:\\n', x_iter)\n",
        "print('погрешность: ', actual_err, '\\n')\n",
        "\n",
        "x_z = approximations[num_app]\n",
        "print('решение методом Зейделя:\\n', x_z)\n",
        "print('погрешность: ', actual_err_z)\n",
        "\n",
        "print('\\nприближение решения методом Зейделя:')\n",
        "for i in range (0, num_app + 1):\n",
        "  print(i, ' --- ', approximations[i])"
      ],
      "execution_count": null,
      "outputs": [
        {
          "output_type": "stream",
          "text": [
            "решение по Гауссу:\n",
            " [0.10000019 0.49999963 1.00000011] \n",
            "\n",
            "решение методом простой итерации:\n",
            " [0.089338   0.50980826 0.99228762]\n",
            "погрешность:  0.010662190445432818 \n",
            "\n",
            "решение методом Зейделя:\n",
            " [0.0982971  0.50116494 0.99928952]\n",
            "погрешность:  0.001703096258481418\n",
            "\n",
            "приближение решения методом Зейделя:\n",
            "0  ---  [0. 0. 0.]\n",
            "1  ---  [-0.16090287  0.90568961  0.84725734]\n",
            "2  ---  [-0.09375321  0.6160905   0.92234337]\n",
            "3  ---  [0.03027998 0.54889814 0.97067983]\n",
            "4  ---  [0.07205878 0.51903078 0.98835884]\n",
            "5  ---  [0.0890288  0.50751267 0.99542129]\n",
            "6  ---  [0.09567605 0.5029578  0.99819603]\n",
            "7  ---  [0.0982971  0.50116494 0.99928952]\n"
          ],
          "name": "stdout"
        }
      ]
    },
    {
      "cell_type": "markdown",
      "metadata": {
        "id": "TjCs8J1RrrSx"
      },
      "source": [
        "**Метод верхней релаксации**"
      ]
    },
    {
      "cell_type": "code",
      "metadata": {
        "id": "AmsUU6dvr8We",
        "colab": {
          "base_uri": "https://localhost:8080/",
          "height": 420
        },
        "outputId": "497d167b-4be3-4ab4-eb82-c19c9d7f5d3d"
      },
      "source": [
        "q = 2 / (1 + pow(1 - spec_rad * spec_rad, 0.5))\n",
        "\n",
        "approximations = []\n",
        "approximations.append(np.zeros(n))\n",
        "\n",
        "for k in range(1, num_app + 1):\n",
        "  x = np.zeros(n)\n",
        "  for i in range(0, n):\n",
        "    sum = 0\n",
        "    for j in range(0, i):\n",
        "      sum += H[i, j] * x[j]\n",
        "    for j in range(i + 1, n):\n",
        "      sum += H[i, j] * (approximations[k - 1])[j]\n",
        "    x[i] = (approximations[k - 1])[i] + q * (sum + g[i] - (approximations[k - 1])[i])\n",
        "  approximations.append(x)\n",
        "\n",
        "error_vector = np.zeros(n)\n",
        "for i in range(0, n):\n",
        "  error_vector[i] = x_g[i] - (approximations[num_app])[i]\n",
        "actual_err_r = get_norm_vector(error_vector, n)\n",
        "\n",
        "print('решение по Гауссу:\\n', x_g, '\\n')\n",
        "\n",
        "print('решение методом простой итерации:\\n', x_iter)\n",
        "print('погрешность: ', actual_err, '\\n')\n",
        "\n",
        "print('решение методом Зейделя:\\n', x_z)\n",
        "print('погрешность: ', actual_err_z)\n",
        "\n",
        "print('\\nрешение методом верхней релаксации:\\n', approximations[num_app])\n",
        "print('погрешность: ', actual_err_r)\n",
        "\n",
        "print('\\nприближение решения методом верхней релаксации:')\n",
        "for i in range (0, num_app + 1):\n",
        "  print(i, ' --- ', approximations[i])"
      ],
      "execution_count": null,
      "outputs": [
        {
          "output_type": "stream",
          "text": [
            "решение по Гауссу:\n",
            " [0.10000019 0.49999963 1.00000011] \n",
            "\n",
            "решение методом простой итерации:\n",
            " [0.089338   0.50980826 0.99228762]\n",
            "погрешность:  0.010662190445432818 \n",
            "\n",
            "решение методом Зейделя:\n",
            " [0.0982971  0.50116494 0.99928952]\n",
            "погрешность:  0.001703096258481418\n",
            "\n",
            "решение методом верхней релаксации:\n",
            " [0.09996447 0.50004066 0.99999232]\n",
            "погрешность:  4.1026680938860416e-05\n",
            "\n",
            "приближение решения методом верхней релаксации:\n",
            "0  ---  [0. 0. 0.]\n",
            "1  ---  [-0.18035576  1.02285426  0.91810354]\n",
            "2  ---  [-0.09181622  0.54121986  0.93968697]\n",
            "3  ---  [0.08000949 0.52412005 0.99568157]\n",
            "4  ---  [0.09174974 0.50185548 0.99748419]\n",
            "5  ---  [0.09914759 0.50099668 0.99981596]\n",
            "6  ---  [0.09965967 0.50007812 0.99989657]\n",
            "7  ---  [0.09996447 0.50004066 0.99999232]\n"
          ],
          "name": "stdout"
        }
      ]
    }
  ]
}