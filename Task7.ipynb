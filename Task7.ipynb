{
  "nbformat": 4,
  "nbformat_minor": 0,
  "metadata": {
    "colab": {
      "name": "Task7",
      "provenance": [],
      "collapsed_sections": []
    },
    "kernelspec": {
      "name": "python3",
      "display_name": "Python 3"
    }
  },
  "cells": [
    {
      "cell_type": "markdown",
      "metadata": {
        "id": "y3ggPN3Onov0"
      },
      "source": [
        "Шанаровой Надежды, 451 группа\r\n"
      ]
    },
    {
      "cell_type": "markdown",
      "metadata": {
        "id": "RvXlQ1mT4zqD"
      },
      "source": [
        "Вариант 13\n",
        "\n",
        "$-(\\frac{u'}{2x+3})' + (1 + cos(x))u = 1 + x$\n",
        "\n",
        "$u(-1) = u'(1) = 0$"
      ]
    },
    {
      "cell_type": "code",
      "metadata": {
        "id": "ooWBub3Jq7Pt"
      },
      "source": [
        "import numpy as np\n",
        "import scipy.special as scs\n",
        "from scipy.integrate import quad\n",
        "import matplotlib.pyplot as plt\n",
        "import pandas as pd"
      ],
      "execution_count": null,
      "outputs": []
    },
    {
      "cell_type": "markdown",
      "metadata": {
        "id": "gHROFJ0Jx_3X"
      },
      "source": [
        "метод Ритца с системой\n",
        "\n",
        "$1 + x, i = 1$\n",
        "\n",
        "$(1 - x^2)P_{i-2}^{(1,1)}(x), i = 2,..$"
      ]
    },
    {
      "cell_type": "code",
      "metadata": {
        "id": "roSNb2Ukq-jK"
      },
      "source": [
        "def w(i,x):\n",
        "  if i == 1:\n",
        "    return 1 + x\n",
        "  return (1 - x*x)*scs.eval_jacobi(i-2,1,1,x)"
      ],
      "execution_count": null,
      "outputs": []
    },
    {
      "cell_type": "code",
      "metadata": {
        "id": "q5T-c-bOrFkR"
      },
      "source": [
        "def dw(i,x):\n",
        "  if i == 1:\n",
        "    return 1\n",
        "  return -2*(i - 1)*scs.eval_jacobi(i-1,0,0,x)"
      ],
      "execution_count": null,
      "outputs": []
    },
    {
      "cell_type": "code",
      "metadata": {
        "id": "L1WkBAv4tu1F"
      },
      "source": [
        "# i -> w_i\n",
        "def fabric_w(i):\n",
        "  def subs(x):\n",
        "    return w(i,x)\n",
        "  return subs\n",
        "\n",
        "# i -> dw_i\n",
        "def fabric_dw(i):\n",
        "  def subs(x):\n",
        "    return dw(i,x)\n",
        "  return subs"
      ],
      "execution_count": null,
      "outputs": []
    },
    {
      "cell_type": "code",
      "metadata": {
        "id": "68KpxvQ4rHHf"
      },
      "source": [
        "def scalar_mult(f1,f2):\n",
        "  def f(x):\n",
        "    return f1(x)*f2(x)\n",
        "  return quad(f,-1,1)[0]"
      ],
      "execution_count": null,
      "outputs": []
    },
    {
      "cell_type": "code",
      "metadata": {
        "id": "tQ2cb9Nhr2Sx"
      },
      "source": [
        "def p(x):\n",
        "  return 1/(2*x + 3)\n",
        "def r(x):\n",
        "  return 1 + np.cos(x)\n",
        "def f(x):\n",
        "  return 1 + x\n",
        "def integrand(x, i, j):\n",
        "  return p(x)*dw(i,x)*dw(j,x) + r(x)*w(i,x)*w(j,x)"
      ],
      "execution_count": null,
      "outputs": []
    },
    {
      "cell_type": "code",
      "metadata": {
        "id": "sjhiGHSzrQo5"
      },
      "source": [
        "def solve_ritz(n):\n",
        "  a = [[quad(integrand, -1, 1, args=(i,j))[0] for j in range(1,n+1)] for i in range(1,n+1)]\n",
        "  b = []\n",
        "  for i in range(1,n+1):\n",
        "    b.append(scalar_mult(fabric_w(i),f))\n",
        "  a = np.array(a)\n",
        "  b = np.array(b)\n",
        "  #print(a.shape, b.shape)\n",
        "  c = np.linalg.solve(a,b)\n",
        "  def u(x):\n",
        "    return sum([c[i-1]*w(i,x) for i in range(1,n+1)])\n",
        "  return u"
      ],
      "execution_count": null,
      "outputs": []
    },
    {
      "cell_type": "code",
      "metadata": {
        "id": "awuf5xpcuRl-",
        "colab": {
          "base_uri": "https://localhost:8080/",
          "height": 282
        },
        "outputId": "cde073d1-c471-4bf4-bdd8-de85e528c74f"
      },
      "source": [
        "n = 20\n",
        "x = np.linspace(1,-1,1000)\n",
        "u = solve_ritz(n)\n",
        "y = [u(t) for t in x]\n",
        "plt.plot(x,y)"
      ],
      "execution_count": null,
      "outputs": [
        {
          "output_type": "execute_result",
          "data": {
            "text/plain": [
              "[<matplotlib.lines.Line2D at 0x7efe00d3aac8>]"
            ]
          },
          "metadata": {
            "tags": []
          },
          "execution_count": 78
        },
        {
          "output_type": "display_data",
          "data": {
            "image/png": "[encoded data removed]",
            "text/plain": [
              "<Figure size 432x288 with 1 Axes>"
            ]
          },
          "metadata": {
            "tags": [],
            "needs_background": "light"
          }
        }
      ]
    },
    {
      "cell_type": "code",
      "metadata": {
        "id": "JpDSj3EZvKfD",
        "colab": {
          "base_uri": "https://localhost:8080/",
          "height": 452
        },
        "outputId": "104fb382-fd2a-4592-f7ee-ef140b575377"
      },
      "source": [
        "df = pd.DataFrame(columns=['x=-0.5','x=-0','x=0.5'])\n",
        "x = np.linspace(1,-1,1000)\n",
        "for n in [1,2,5,10,20]:\n",
        "  u = solve_ritz(n)\n",
        "  df.loc[n] = [u(-0.5),u(0),u(0.5)]\n",
        "  y = [u(t) for t in x]\n",
        "  plt.plot(x,y)\n",
        "plt.show()\n",
        "df"
      ],
      "execution_count": null,
      "outputs": [
        {
          "output_type": "display_data",
          "data": {
            "image/png": "[encoded data removed]",
            "text/plain": [
              "<Figure size 432x288 with 1 Axes>"
            ]
          },
          "metadata": {
            "tags": [],
            "needs_background": "light"
          }
        },
        {
          "output_type": "execute_result",
          "data": {
            "text/html": [
              "<div>\n",
              "<style scoped>\n",
              "    .dataframe tbody tr th:only-of-type {\n",
              "        vertical-align: middle;\n",
              "    }\n",
              "\n",
              "    .dataframe tbody tr th {\n",
              "        vertical-align: top;\n",
              "    }\n",
              "\n",
              "    .dataframe thead th {\n",
              "        text-align: right;\n",
              "    }\n",
              "</style>\n",
              "<table border=\"1\" class=\"dataframe\">\n",
              "  <thead>\n",
              "    <tr style=\"text-align: right;\">\n",
              "      <th></th>\n",
              "      <th>x=-0.5</th>\n",
              "      <th>x=-0</th>\n",
              "      <th>x=0.5</th>\n",
              "    </tr>\n",
              "  </thead>\n",
              "  <tbody>\n",
              "    <tr>\n",
              "      <th>1</th>\n",
              "      <td>0.236717</td>\n",
              "      <td>0.473435</td>\n",
              "      <td>0.710152</td>\n",
              "    </tr>\n",
              "    <tr>\n",
              "      <th>2</th>\n",
              "      <td>0.218827</td>\n",
              "      <td>0.455987</td>\n",
              "      <td>0.711479</td>\n",
              "    </tr>\n",
              "    <tr>\n",
              "      <th>5</th>\n",
              "      <td>0.198705</td>\n",
              "      <td>0.454380</td>\n",
              "      <td>0.739978</td>\n",
              "    </tr>\n",
              "    <tr>\n",
              "      <th>10</th>\n",
              "      <td>0.197569</td>\n",
              "      <td>0.456056</td>\n",
              "      <td>0.737909</td>\n",
              "    </tr>\n",
              "    <tr>\n",
              "      <th>20</th>\n",
              "      <td>0.197569</td>\n",
              "      <td>0.456056</td>\n",
              "      <td>0.737909</td>\n",
              "    </tr>\n",
              "  </tbody>\n",
              "</table>\n",
              "</div>"
            ],
            "text/plain": [
              "      x=-0.5      x=-0     x=0.5\n",
              "1   0.236717  0.473435  0.710152\n",
              "2   0.218827  0.455987  0.711479\n",
              "5   0.198705  0.454380  0.739978\n",
              "10  0.197569  0.456056  0.737909\n",
              "20  0.197569  0.456056  0.737909"
            ]
          },
          "metadata": {
            "tags": []
          },
          "execution_count": 79
        }
      ]
    },
    {
      "cell_type": "markdown",
      "metadata": {
        "id": "aBKjQXBqyRd6"
      },
      "source": [
        "метод коллокации\n",
        "\n",
        "$w_i(x) = 2 + 2x + (1-x^2)x^i$\n",
        "\n",
        "узлы коллокации $t_i = cos(\\frac{(2i - 1)\\pi}{2n})$\n",
        "\n"
      ]
    },
    {
      "cell_type": "code",
      "metadata": {
        "id": "-Hx0W54A0OsW"
      },
      "source": [
        "def w1(j,x):\n",
        "  return 2 + 2*x + (1 - x*x)*(x**j)\n",
        "def dw1(j,x):\n",
        "  return 2 - 2*x**(j+1) + j*(1 - x*x)*x**(j - 1)\n",
        "def ddw1(j,x):\n",
        "  return -2*(j + 1)*x**j + j*(j - 1)*(1 - x**2)*x**(j - 2) - 2*j*x**j"
      ],
      "execution_count": null,
      "outputs": []
    },
    {
      "cell_type": "code",
      "metadata": {
        "id": "bD8KF_U-3nSi"
      },
      "source": [
        "def dp(x):\n",
        "  return -2/(2*x+3)**2"
      ],
      "execution_count": null,
      "outputs": []
    },
    {
      "cell_type": "code",
      "metadata": {
        "id": "B-hA7N_Hx-om"
      },
      "source": [
        "def solve_colloc(n):\n",
        "  a = [[0 for i in range(0,n+1)] for j in range(0,n+1)]\n",
        "  b = []\n",
        "  for i in range(1,n+1):\n",
        "    t = np.cos((2*i-1)*np.pi/(2*n))\n",
        "    b.append(f(t))\n",
        "    for j in range(1,n+1):\n",
        "      a[i][j] = -dp(t)*dw1(j,t) - p(t)*ddw1(j,t) + r(t)*w1(j,t)\n",
        "  a = np.array(a)\n",
        "  a = a[:,1:n+1]\n",
        "  a = a[1:n+1,:]\n",
        "  b = np.array(b)\n",
        "  c = np.linalg.solve(a,b)\n",
        "  def u(x):\n",
        "    return sum([c[i-1]*w1(i,x) for i in range(1,n+1)])\n",
        "  return u"
      ],
      "execution_count": null,
      "outputs": []
    },
    {
      "cell_type": "code",
      "metadata": {
        "id": "ldGfJjdb0qDK",
        "colab": {
          "base_uri": "https://localhost:8080/",
          "height": 452
        },
        "outputId": "d95fb30b-4056-46b2-f3c7-c39b1d884694"
      },
      "source": [
        "df = pd.DataFrame(columns=['x=-0.5','x=-0','x=0.5'])\n",
        "x = np.linspace(1,-1,1000)\n",
        "for n in [1,2,5,10,20]:\n",
        "  u = solve_colloc(n)\n",
        "  df.loc[n] = [u(-0.5),u(0),u(0.5)]\n",
        "  y = [u(t) for t in x]\n",
        "  plt.plot(x,y)\n",
        "plt.show()\n",
        "df"
      ],
      "execution_count": null,
      "outputs": [
        {
          "output_type": "display_data",
          "data": {
            "image/png": "[encoded data removed]",
            "text/plain": [
              "<Figure size 432x288 with 1 Axes>"
            ]
          },
          "metadata": {
            "tags": [],
            "needs_background": "light"
          }
        },
        {
          "output_type": "execute_result",
          "data": {
            "text/html": [
              "<div>\n",
              "<style scoped>\n",
              "    .dataframe tbody tr th:only-of-type {\n",
              "        vertical-align: middle;\n",
              "    }\n",
              "\n",
              "    .dataframe tbody tr th {\n",
              "        vertical-align: top;\n",
              "    }\n",
              "\n",
              "    .dataframe thead th {\n",
              "        text-align: right;\n",
              "    }\n",
              "</style>\n",
              "<table border=\"1\" class=\"dataframe\">\n",
              "  <thead>\n",
              "    <tr style=\"text-align: right;\">\n",
              "      <th></th>\n",
              "      <th>x=-0.5</th>\n",
              "      <th>x=-0</th>\n",
              "      <th>x=0.5</th>\n",
              "    </tr>\n",
              "  </thead>\n",
              "  <tbody>\n",
              "    <tr>\n",
              "      <th>1</th>\n",
              "      <td>0.133929</td>\n",
              "      <td>0.428571</td>\n",
              "      <td>0.723214</td>\n",
              "    </tr>\n",
              "    <tr>\n",
              "      <th>2</th>\n",
              "      <td>0.183823</td>\n",
              "      <td>0.444530</td>\n",
              "      <td>0.735175</td>\n",
              "    </tr>\n",
              "    <tr>\n",
              "      <th>5</th>\n",
              "      <td>0.143727</td>\n",
              "      <td>0.437874</td>\n",
              "      <td>0.787124</td>\n",
              "    </tr>\n",
              "    <tr>\n",
              "      <th>10</th>\n",
              "      <td>0.201347</td>\n",
              "      <td>0.467366</td>\n",
              "      <td>0.741335</td>\n",
              "    </tr>\n",
              "    <tr>\n",
              "      <th>20</th>\n",
              "      <td>0.194263</td>\n",
              "      <td>0.464021</td>\n",
              "      <td>0.733757</td>\n",
              "    </tr>\n",
              "  </tbody>\n",
              "</table>\n",
              "</div>"
            ],
            "text/plain": [
              "      x=-0.5      x=-0     x=0.5\n",
              "1   0.133929  0.428571  0.723214\n",
              "2   0.183823  0.444530  0.735175\n",
              "5   0.143727  0.437874  0.787124\n",
              "10  0.201347  0.467366  0.741335\n",
              "20  0.194263  0.464021  0.733757"
            ]
          },
          "metadata": {
            "tags": []
          },
          "execution_count": 83
        }
      ]
    }
  ]
}